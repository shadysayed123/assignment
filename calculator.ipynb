{
 "cells": [
  {
   "cell_type": "code",
   "execution_count": 21,
   "id": "89668b29",
   "metadata": {},
   "outputs": [],
   "source": [
    "# standard calculator\n",
    "\n",
    "import math\n",
    "\n",
    "def add(x,y):\n",
    "    return(x+y)\n",
    "\n",
    "def subt(x,y):\n",
    "    return(x-y)\n",
    "\n",
    "def mult(x,y):\n",
    "    return(x*y)\n",
    "\n",
    "def divide(x,y):\n",
    "    if y == 0 :\n",
    "        print(\"can,t be solved!!!\")\n",
    "    return(x/y)\n",
    "\n",
    "def modulus(x,y):\n",
    "    if y == 0 :\n",
    "        print(\"can,t be solved!!!\")\n",
    "    return(x%y)\n",
    "\n",
    "def floordivision(x,y):\n",
    "    if y == 0 :\n",
    "        print(\"can,t be solved!!!\")\n",
    "    return(x//y)\n",
    "\n",
    "def sqrt(x):\n",
    "    if x == -1:\n",
    "        print(\"can't be solved!!!\")\n",
    "    else:    \n",
    "        return(math.sqrt(x))\n",
    "\n",
    "def power(x,y):\n",
    "    return(pow(x,y))\n",
    "\n",
    "def factorial(x):\n",
    "    if x == 1:\n",
    "        return 1\n",
    "    else:\n",
    "        return(x*factorial(x-1))\n",
    "\n",
    "def absoulte(x):\n",
    "    return(abs(x))"
   ]
  },
  {
   "cell_type": "code",
   "execution_count": 22,
   "id": "fcb693e1",
   "metadata": {},
   "outputs": [
    {
     "name": "stdout",
     "output_type": "stream",
     "text": [
      "Enter the first number : -1\n",
      "Enter the operation : abs\n",
      "Enter the second number : 0\n",
      "|-1.0| = 1.0\n"
     ]
    }
   ],
   "source": [
    "num1 = float(input(\"Enter the first number : \"))\n",
    "operator = input(\"Enter the operation : \")\n",
    "num2 = float(input(\"Enter the second number : \"))\n",
    "\n",
    "if operator == '+':\n",
    "    print(str(num1)+\" \"+str(operator)+\" \"+str(num2)+\" = \"+str(add(num1,num2)))\n",
    "if operator == '-':\n",
    "    print(str(num1)+\" \"+str(operator)+\" \"+str(num2)+\" = \"+str(subt(num1,num2)))\n",
    "if operator == '*':\n",
    "    print(str(num1)+\" \"+str(operator)+\" \"+str(num2)+\" = \"+str(mult(num1,num2)))\n",
    "if operator == '/':\n",
    "    print(str(num1)+\" \"+str(operator)+\" \"+str(num2)+\" = \"+str(divide(num1,num2)))\n",
    "if operator == '%':\n",
    "    print(str(num1)+\" \"+str(operator)+\" \"+str(num2)+\" = \"+str(modulus(num1,num2)))\n",
    "if operator == '//':\n",
    "    print(str(num1)+\" \"+str(operator)+\" \"+str(num2)+\" = \"+str(floordivision(num1,num2)))\n",
    "if operator == '√':  # ALT 251\n",
    "    print(\"√\"+str(num1)+ \" = \" +str(sqrt(num1)))  \n",
    "if operator == '^':\n",
    "    print(str(num1)+\" \"+str(operator)+\" \"+str(num2)+\" = \"+str(power(num1,num2)))\n",
    "if operator == 'abs':  \n",
    "    print(\"|\"+str(num1)+\"|\"+ \" = \" +str(absoulte(num1)))\n",
    "if operator == '!':  \n",
    "    print(str(num1)+\"!\"+\" = \" +str(factorial(num1)))    "
   ]
  },
  {
   "cell_type": "code",
   "execution_count": null,
   "id": "206c2bf5",
   "metadata": {},
   "outputs": [],
   "source": []
  },
  {
   "cell_type": "code",
   "execution_count": null,
   "id": "8f6c8066",
   "metadata": {},
   "outputs": [],
   "source": []
  }
 ],
 "metadata": {
  "kernelspec": {
   "display_name": "Python 3 (ipykernel)",
   "language": "python",
   "name": "python3"
  },
  "language_info": {
   "codemirror_mode": {
    "name": "ipython",
    "version": 3
   },
   "file_extension": ".py",
   "mimetype": "text/x-python",
   "name": "python",
   "nbconvert_exporter": "python",
   "pygments_lexer": "ipython3",
   "version": "3.11.3"
  }
 },
 "nbformat": 4,
 "nbformat_minor": 5
}
